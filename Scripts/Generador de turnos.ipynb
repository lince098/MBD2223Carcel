{
 "cells": [
  {
   "cell_type": "code",
   "execution_count": 11,
   "id": "b417f60b",
   "metadata": {},
   "outputs": [],
   "source": [
    "import pandas as pd\n",
    "from datetime import datetime, timedelta"
   ]
  },
  {
   "cell_type": "code",
   "execution_count": 12,
   "id": "31be5074",
   "metadata": {},
   "outputs": [],
   "source": [
    "dni = '213421A'\n",
    "diasSeguidos = 30\n",
    "fechaInicial = \"1/12/2022 08:00:00\"\n",
    "fechaFinal = \"1/12/2022 16:00:00\""
   ]
  },
  {
   "cell_type": "code",
   "execution_count": 13,
   "id": "446f48fc",
   "metadata": {},
   "outputs": [],
   "source": [
    "fechaInicial = datetime.strptime(\"1/12/2022 08:00:00\", \"%d/%m/%Y %H:%M:%S\")\n",
    "fechaFinal = datetime.strptime(\"1/12/2022 16:00:00\", \"%d/%m/%Y %H:%M:%S\")\n",
    "with open(\"turnos_\"+dni+\".sql\", \"a\") as file:\n",
    "    for i in range(diasSeguidos):\n",
    "        sentence = \"insert into UBD3707.TURNO (entrada, salida, nif) values ({0},{1},'{2}')\\n\"\n",
    "\n",
    "        inicioTurno = fechaInicial + timedelta(days=i)\n",
    "        inicioTurno = datetime.strftime(inicioTurno, \"%d/%m/%Y, %H:%M:%S\")\n",
    "        inicioTurno = \"TO_DATE('\" + inicioTurno + \"', 'dd/mm/yyyy hh24:mi:ss')\"\n",
    "\n",
    "        finTurno = fechaFinal + timedelta(days=i)\n",
    "        finTurno = datetime.strftime(finTurno, \"%d/%m/%Y, %H:%M:%S\")\n",
    "        finTurno = \"TO_DATE('\" + finTurno + \"', 'dd/mm/yyyy hh24:mi:ss')\"\n",
    "\n",
    "        file.write(sentence.format(inicioTurno, finTurno, dni))"
   ]
  }
 ],
 "metadata": {
  "kernelspec": {
   "display_name": "Python 3 (ipykernel)",
   "language": "python",
   "name": "python3"
  },
  "language_info": {
   "codemirror_mode": {
    "name": "ipython",
    "version": 3
   },
   "file_extension": ".py",
   "mimetype": "text/x-python",
   "name": "python",
   "nbconvert_exporter": "python",
   "pygments_lexer": "ipython3",
   "version": "3.9.12"
  }
 },
 "nbformat": 4,
 "nbformat_minor": 5
}
