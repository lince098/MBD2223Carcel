{
 "cells": [
  {
   "cell_type": "code",
   "execution_count": 1,
   "id": "b417f60b",
   "metadata": {},
   "outputs": [],
   "source": [
    "import pandas as pd\n",
    "from datetime import datetime, timedelta\n",
    "import numpy as np"
   ]
  },
  {
   "cell_type": "code",
   "execution_count": 2,
   "id": "31be5074",
   "metadata": {},
   "outputs": [],
   "source": [
    "dnis = ['47180520E',\n",
    "        '32849429R',\n",
    "        '57609035S',\n",
    "        '72473735E',\n",
    "        '09462675S',\n",
    "        '02437685F',\n",
    "        '67154048M',\n",
    "        '52370908T',\n",
    "        '59611344J',\n",
    "        '88096570S']\n",
    "diasSeguidos = 30\n",
    "fechaInicial = \"1/12/2022 08:00:00\"\n",
    "fechaFinal = \"1/12/2022 16:00:00\""
   ]
  },
  {
   "cell_type": "code",
   "execution_count": 3,
   "id": "446f48fc",
   "metadata": {},
   "outputs": [],
   "source": [
    "def creaTurno(dni, diasSeguidos, fInicial, fFinal):\n",
    "    fechaInicial = datetime.strptime(fInicial, \"%d/%m/%Y %H:%M:%S\")\n",
    "    fechaFinal = datetime.strptime(fFinal, \"%d/%m/%Y %H:%M:%S\")\n",
    "    horasIni = [0, 8, 16]\n",
    "    horasFin = [0, 8, 16]\n",
    "    with open(\"turnos_\"+dni+\".sql\", \"w\") as file:\n",
    "        for i in range(diasSeguidos):\n",
    "\n",
    "            sentence = \"insert into UBD3707.TURNO (entrada, salida, nif) values ({0},{1},'{2}');\\n\"\n",
    "\n",
    "            horaTurnoIndex = np.random.randint(3)\n",
    "\n",
    "            inicioTurno = fechaInicial + \\\n",
    "                timedelta(days=i, hours=horasIni[horaTurnoIndex])\n",
    "            inicioTurno = datetime.strftime(inicioTurno, \"%d/%m/%Y, %H:%M:%S\")\n",
    "            inicioTurno = \"TO_DATE('\" + inicioTurno + \\\n",
    "                \"', 'dd/mm/yyyy hh24:mi:ss')\"\n",
    "\n",
    "            finTurno = fechaFinal + \\\n",
    "                timedelta(days=i, hours=horasFin[horaTurnoIndex])\n",
    "            finTurno = datetime.strftime(finTurno, \"%d/%m/%Y, %H:%M:%S\")\n",
    "            finTurno = \"TO_DATE('\" + finTurno + \"', 'dd/mm/yyyy hh24:mi:ss')\"\n",
    "\n",
    "            file.write(sentence.format(inicioTurno, finTurno, dni))"
   ]
  },
  {
   "cell_type": "code",
   "execution_count": 4,
   "id": "bc4a2217",
   "metadata": {},
   "outputs": [],
   "source": [
    "for dni in dnis:\n",
    "    creaTurno(dni, diasSeguidos, fechaInicial, fechaFinal)"
   ]
  }
 ],
 "metadata": {
  "kernelspec": {
   "display_name": "Python 3 (ipykernel)",
   "language": "python",
   "name": "python3"
  },
  "language_info": {
   "codemirror_mode": {
    "name": "ipython",
    "version": 3
   },
   "file_extension": ".py",
   "mimetype": "text/x-python",
   "name": "python",
   "nbconvert_exporter": "python",
   "pygments_lexer": "ipython3",
   "version": "3.9.12"
  }
 },
 "nbformat": 4,
 "nbformat_minor": 5
}
